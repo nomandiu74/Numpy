{
 "cells": [
  {
   "cell_type": "code",
   "execution_count": 12,
   "id": "0472db9c",
   "metadata": {},
   "outputs": [],
   "source": [
    "# array atrributes\n",
    "import numpy as np\n",
    "\n"
   ]
  },
  {
   "cell_type": "code",
   "execution_count": 20,
   "id": "74760604",
   "metadata": {},
   "outputs": [
    {
     "name": "stdout",
     "output_type": "stream",
     "text": [
      "[1 2 3 5 6 3]\n"
     ]
    },
    {
     "data": {
      "text/plain": [
       "1"
      ]
     },
     "execution_count": 20,
     "metadata": {},
     "output_type": "execute_result"
    }
   ],
   "source": [
    "a=np.array([1,2,3,5,6,3])\n",
    "print(a)\n",
    "a.shape #check how many number\n",
    "a.ndim #check dimension"
   ]
  },
  {
   "cell_type": "code",
   "execution_count": 15,
   "id": "b485d9cd",
   "metadata": {},
   "outputs": [
    {
     "data": {
      "text/plain": [
       "list"
      ]
     },
     "execution_count": 15,
     "metadata": {},
     "output_type": "execute_result"
    }
   ],
   "source": [
    "type(a)"
   ]
  },
  {
   "cell_type": "code",
   "execution_count": 26,
   "id": "dd868d5b",
   "metadata": {},
   "outputs": [],
   "source": [
    "#two dimentional array\n",
    "b=np.array([[1,2,3,7],\n",
    "           [4,5,6,7]])"
   ]
  },
  {
   "cell_type": "code",
   "execution_count": 27,
   "id": "caaa62dd",
   "metadata": {},
   "outputs": [
    {
     "data": {
      "text/plain": [
       "(2, 4)"
      ]
     },
     "execution_count": 27,
     "metadata": {},
     "output_type": "execute_result"
    }
   ],
   "source": [
    "b.shape"
   ]
  },
  {
   "cell_type": "code",
   "execution_count": 28,
   "id": "2c5f0bb4",
   "metadata": {},
   "outputs": [
    {
     "data": {
      "text/plain": [
       "numpy.ndarray"
      ]
     },
     "execution_count": 28,
     "metadata": {},
     "output_type": "execute_result"
    }
   ],
   "source": [
    "type(b)"
   ]
  },
  {
   "cell_type": "code",
   "execution_count": 29,
   "id": "8c8e50fc",
   "metadata": {},
   "outputs": [
    {
     "data": {
      "text/plain": [
       "2"
      ]
     },
     "execution_count": 29,
     "metadata": {},
     "output_type": "execute_result"
    }
   ],
   "source": [
    "b.ndim"
   ]
  },
  {
   "cell_type": "code",
   "execution_count": 53,
   "id": "f5820cc2",
   "metadata": {},
   "outputs": [],
   "source": [
    "#three dimentional array\n",
    "c=np.array([[\n",
    "    [1.0,2,3,4],\n",
    "    [5,6,7,8],\n",
    "    [33,23,12,45]\n",
    "],[\n",
    "    [1,2,3,4],\n",
    "    [1,2,3,4],\n",
    "    [5,6,7,8]\n",
    "]])\n"
   ]
  },
  {
   "cell_type": "code",
   "execution_count": 52,
   "id": "caa2e3b1",
   "metadata": {},
   "outputs": [
    {
     "data": {
      "text/plain": [
       "numpy.ndarray"
      ]
     },
     "execution_count": 52,
     "metadata": {},
     "output_type": "execute_result"
    }
   ],
   "source": [
    "type(c)"
   ]
  },
  {
   "cell_type": "code",
   "execution_count": 56,
   "id": "d5031073",
   "metadata": {},
   "outputs": [
    {
     "data": {
      "text/plain": [
       "3"
      ]
     },
     "execution_count": 56,
     "metadata": {},
     "output_type": "execute_result"
    }
   ],
   "source": [
    "c.ndim"
   ]
  },
  {
   "cell_type": "code",
   "execution_count": 55,
   "id": "655f6dce",
   "metadata": {},
   "outputs": [
    {
     "data": {
      "text/plain": [
       "(2, 3, 4)"
      ]
     },
     "execution_count": 55,
     "metadata": {},
     "output_type": "execute_result"
    }
   ],
   "source": [
    "c.shape"
   ]
  },
  {
   "cell_type": "code",
   "execution_count": 54,
   "id": "a947d045",
   "metadata": {},
   "outputs": [
    {
     "data": {
      "text/plain": [
       "dtype('float64')"
      ]
     },
     "execution_count": 54,
     "metadata": {},
     "output_type": "execute_result"
    }
   ],
   "source": [
    "c.dtype"
   ]
  },
  {
   "cell_type": "code",
   "execution_count": 57,
   "id": "40e64904",
   "metadata": {},
   "outputs": [
    {
     "data": {
      "text/plain": [
       "(8, 24)"
      ]
     },
     "execution_count": 57,
     "metadata": {},
     "output_type": "execute_result"
    }
   ],
   "source": [
    "b.size ,c.size #determine how many elements ara ther in an array\n"
   ]
  },
  {
   "cell_type": "code",
   "execution_count": 59,
   "id": "97ccdc9f",
   "metadata": {},
   "outputs": [
    {
     "data": {
      "text/plain": [
       "(32, 192)"
      ]
     },
     "execution_count": 59,
     "metadata": {},
     "output_type": "execute_result"
    }
   ],
   "source": [
    "b.nbytes,c.nbytes  #bytes consume by this array"
   ]
  },
  {
   "cell_type": "code",
   "execution_count": 66,
   "id": "0e5f1143",
   "metadata": {},
   "outputs": [
    {
     "data": {
      "text/plain": [
       "(<memory at 0x0000027A95A9D150>, <memory at 0x0000027A95ADC400>)"
      ]
     },
     "execution_count": 66,
     "metadata": {},
     "output_type": "execute_result"
    }
   ],
   "source": [
    "b.data,c.data"
   ]
  },
  {
   "cell_type": "code",
   "execution_count": 67,
   "id": "03076d08",
   "metadata": {},
   "outputs": [],
   "source": [
    "#array creation\n",
    "\n"
   ]
  },
  {
   "cell_type": "code",
   "execution_count": 68,
   "id": "9f9d080b",
   "metadata": {},
   "outputs": [],
   "source": [
    "array1=np.array([3,4,2],dtype='int')"
   ]
  },
  {
   "cell_type": "code",
   "execution_count": 69,
   "id": "21730a77",
   "metadata": {},
   "outputs": [
    {
     "data": {
      "text/plain": [
       "array([3, 4, 2])"
      ]
     },
     "execution_count": 69,
     "metadata": {},
     "output_type": "execute_result"
    }
   ],
   "source": [
    "array1"
   ]
  },
  {
   "cell_type": "code",
   "execution_count": 71,
   "id": "329c1d0c",
   "metadata": {},
   "outputs": [
    {
     "data": {
      "text/plain": [
       "4"
      ]
     },
     "execution_count": 71,
     "metadata": {},
     "output_type": "execute_result"
    }
   ],
   "source": [
    "max(array1)"
   ]
  },
  {
   "cell_type": "code",
   "execution_count": 73,
   "id": "fc5fe495",
   "metadata": {},
   "outputs": [],
   "source": [
    "D=np.zeros((3,4),dtype='float')"
   ]
  },
  {
   "cell_type": "code",
   "execution_count": 74,
   "id": "0f21ac99",
   "metadata": {},
   "outputs": [
    {
     "data": {
      "text/plain": [
       "array([[0., 0., 0., 0.],\n",
       "       [0., 0., 0., 0.],\n",
       "       [0., 0., 0., 0.]])"
      ]
     },
     "execution_count": 74,
     "metadata": {},
     "output_type": "execute_result"
    }
   ],
   "source": [
    "D"
   ]
  },
  {
   "cell_type": "code",
   "execution_count": 75,
   "id": "a9575125",
   "metadata": {},
   "outputs": [
    {
     "data": {
      "text/plain": [
       "(3, 4)"
      ]
     },
     "execution_count": 75,
     "metadata": {},
     "output_type": "execute_result"
    }
   ],
   "source": [
    "D.shape"
   ]
  },
  {
   "cell_type": "code",
   "execution_count": 80,
   "id": "51b728f3",
   "metadata": {},
   "outputs": [
    {
     "data": {
      "text/plain": [
       "array([[0, 0, 0, 0],\n",
       "       [0, 0, 0, 0],\n",
       "       [0, 0, 0, 0]])"
      ]
     },
     "execution_count": 80,
     "metadata": {},
     "output_type": "execute_result"
    }
   ],
   "source": [
    "B=np.zeros((3,4),dtype='int')\n",
    "B\n"
   ]
  },
  {
   "cell_type": "code",
   "execution_count": 82,
   "id": "d63e26f0",
   "metadata": {},
   "outputs": [
    {
     "data": {
      "text/plain": [
       "(3, 4)"
      ]
     },
     "execution_count": 82,
     "metadata": {},
     "output_type": "execute_result"
    }
   ],
   "source": [
    "B.shape\n"
   ]
  },
  {
   "cell_type": "code",
   "execution_count": 84,
   "id": "5ae66254",
   "metadata": {},
   "outputs": [
    {
     "data": {
      "text/plain": [
       "48"
      ]
     },
     "execution_count": 84,
     "metadata": {},
     "output_type": "execute_result"
    }
   ],
   "source": [
    "B.nbytes"
   ]
  },
  {
   "cell_type": "code",
   "execution_count": 85,
   "id": "2ac3103c",
   "metadata": {},
   "outputs": [
    {
     "data": {
      "text/plain": [
       "<memory at 0x0000027A95A9D2F0>"
      ]
     },
     "execution_count": 85,
     "metadata": {},
     "output_type": "execute_result"
    }
   ],
   "source": [
    "B.data"
   ]
  },
  {
   "cell_type": "code",
   "execution_count": 86,
   "id": "66450ca0",
   "metadata": {},
   "outputs": [
    {
     "data": {
      "text/plain": [
       "12"
      ]
     },
     "execution_count": 86,
     "metadata": {},
     "output_type": "execute_result"
    }
   ],
   "source": [
    "B.size"
   ]
  },
  {
   "cell_type": "code",
   "execution_count": 87,
   "id": "a54521ae",
   "metadata": {},
   "outputs": [
    {
     "data": {
      "text/plain": [
       "array([[1, 1, 1],\n",
       "       [1, 1, 1],\n",
       "       [1, 1, 1]])"
      ]
     },
     "execution_count": 87,
     "metadata": {},
     "output_type": "execute_result"
    }
   ],
   "source": [
    "One=np.ones((3,3),dtype='int')\n",
    "One"
   ]
  },
  {
   "cell_type": "code",
   "execution_count": 88,
   "id": "d8347c70",
   "metadata": {},
   "outputs": [
    {
     "data": {
      "text/plain": [
       "9"
      ]
     },
     "execution_count": 88,
     "metadata": {},
     "output_type": "execute_result"
    }
   ],
   "source": [
    "One.size"
   ]
  },
  {
   "cell_type": "code",
   "execution_count": 89,
   "id": "1ad0c6f3",
   "metadata": {},
   "outputs": [
    {
     "data": {
      "text/plain": [
       "(3, 3)"
      ]
     },
     "execution_count": 89,
     "metadata": {},
     "output_type": "execute_result"
    }
   ],
   "source": [
    "One.shape"
   ]
  },
  {
   "cell_type": "code",
   "execution_count": 90,
   "id": "e4886516",
   "metadata": {},
   "outputs": [
    {
     "data": {
      "text/plain": [
       "36"
      ]
     },
     "execution_count": 90,
     "metadata": {},
     "output_type": "execute_result"
    }
   ],
   "source": [
    "One.nbytes"
   ]
  },
  {
   "cell_type": "code",
   "execution_count": 93,
   "id": "1596ebb9",
   "metadata": {},
   "outputs": [
    {
     "data": {
      "text/plain": [
       "array([[9, 9, 9, 9, 9, 9, 9, 9],\n",
       "       [9, 9, 9, 9, 9, 9, 9, 9],\n",
       "       [9, 9, 9, 9, 9, 9, 9, 9],\n",
       "       [9, 9, 9, 9, 9, 9, 9, 9],\n",
       "       [9, 9, 9, 9, 9, 9, 9, 9],\n",
       "       [9, 9, 9, 9, 9, 9, 9, 9],\n",
       "       [9, 9, 9, 9, 9, 9, 9, 9]])"
      ]
     },
     "execution_count": 93,
     "metadata": {},
     "output_type": "execute_result"
    }
   ],
   "source": [
    "Full=np.full((7,8),9)\n",
    "Full"
   ]
  },
  {
   "cell_type": "code",
   "execution_count": 94,
   "id": "2be0aedf",
   "metadata": {},
   "outputs": [
    {
     "data": {
      "text/plain": [
       "dtype('int32')"
      ]
     },
     "execution_count": 94,
     "metadata": {},
     "output_type": "execute_result"
    }
   ],
   "source": [
    "Full.dtype"
   ]
  },
  {
   "cell_type": "code",
   "execution_count": 95,
   "id": "f23fa380",
   "metadata": {},
   "outputs": [
    {
     "data": {
      "text/plain": [
       "(7, 8)"
      ]
     },
     "execution_count": 95,
     "metadata": {},
     "output_type": "execute_result"
    }
   ],
   "source": [
    "Full.shape"
   ]
  },
  {
   "cell_type": "code",
   "execution_count": 98,
   "id": "f65f8eff",
   "metadata": {},
   "outputs": [],
   "source": [
    "identity=np.identity(4,dtype='int')"
   ]
  },
  {
   "cell_type": "code",
   "execution_count": 99,
   "id": "a83d9ac0",
   "metadata": {},
   "outputs": [
    {
     "data": {
      "text/plain": [
       "array([[1, 0, 0, 0],\n",
       "       [0, 1, 0, 0],\n",
       "       [0, 0, 1, 0],\n",
       "       [0, 0, 0, 1]])"
      ]
     },
     "execution_count": 99,
     "metadata": {},
     "output_type": "execute_result"
    }
   ],
   "source": [
    "identity"
   ]
  },
  {
   "cell_type": "code",
   "execution_count": 103,
   "id": "3031f95d",
   "metadata": {},
   "outputs": [
    {
     "data": {
      "text/plain": [
       "array([[0., 0., 0.],\n",
       "       [1., 0., 0.],\n",
       "       [0., 1., 0.]])"
      ]
     },
     "execution_count": 103,
     "metadata": {},
     "output_type": "execute_result"
    }
   ],
   "source": [
    "eye =np.eye(3,3,-1)\n",
    "eye"
   ]
  },
  {
   "cell_type": "code",
   "execution_count": 104,
   "id": "5f588bbd",
   "metadata": {},
   "outputs": [
    {
     "data": {
      "text/plain": [
       "array([1, 3, 5, 7, 9])"
      ]
     },
     "execution_count": 104,
     "metadata": {},
     "output_type": "execute_result"
    }
   ],
   "source": [
    "arange=np.arange(1,10,2)\n",
    "arange"
   ]
  },
  {
   "cell_type": "code",
   "execution_count": 107,
   "id": "7ddb564b",
   "metadata": {},
   "outputs": [
    {
     "data": {
      "text/plain": [
       "array([1.        , 1.44444444, 1.88888889, 2.33333333, 2.77777778,\n",
       "       3.22222222, 3.66666667, 4.11111111, 4.55555556, 5.        ])"
      ]
     },
     "execution_count": 107,
     "metadata": {},
     "output_type": "execute_result"
    }
   ],
   "source": [
    "linspace=np.linspace(1,5,10)\n",
    "linspace"
   ]
  },
  {
   "cell_type": "code",
   "execution_count": 109,
   "id": "46dc2690",
   "metadata": {},
   "outputs": [
    {
     "data": {
      "text/plain": [
       "10"
      ]
     },
     "execution_count": 109,
     "metadata": {},
     "output_type": "execute_result"
    }
   ],
   "source": [
    "linspace.size"
   ]
  },
  {
   "cell_type": "code",
   "execution_count": 113,
   "id": "3c23e7fe",
   "metadata": {},
   "outputs": [
    {
     "data": {
      "text/plain": [
       "array([1, 1, 1, 1, 1, 1, 1, 1, 2, 2, 2, 2, 2, 2, 2, 3, 3, 3, 3, 3, 3, 3,\n",
       "       4, 4, 4, 4, 4, 4, 4, 5])"
      ]
     },
     "execution_count": 113,
     "metadata": {},
     "output_type": "execute_result"
    }
   ],
   "source": [
    "linspace=np.linspace(1,5,30,dtype='int')\n",
    "linspace"
   ]
  },
  {
   "cell_type": "code",
   "execution_count": 115,
   "id": "738fea71",
   "metadata": {},
   "outputs": [
    {
     "data": {
      "text/plain": [
       "array([[6.23042070e-307, 4.67296746e-307, 1.69121096e-306,\n",
       "        1.29061821e-306, 3.44886448e-307]])"
      ]
     },
     "execution_count": 115,
     "metadata": {},
     "output_type": "execute_result"
    }
   ],
   "source": [
    "empty=np.empty((1,5))\n",
    "empty"
   ]
  },
  {
   "cell_type": "code",
   "execution_count": 117,
   "id": "7324bf07",
   "metadata": {},
   "outputs": [
    {
     "data": {
      "text/plain": [
       "array([[0., 1., 2., 3., 4.]])"
      ]
     },
     "execution_count": 117,
     "metadata": {},
     "output_type": "execute_result"
    }
   ],
   "source": [
    "for i in range(5):\n",
    "    empty[:,i]=i\n",
    "empty"
   ]
  },
  {
   "cell_type": "code",
   "execution_count": null,
   "id": "29ff88db",
   "metadata": {},
   "outputs": [],
   "source": []
  }
 ],
 "metadata": {
  "kernelspec": {
   "display_name": "Python 3 (ipykernel)",
   "language": "python",
   "name": "python3"
  },
  "language_info": {
   "codemirror_mode": {
    "name": "ipython",
    "version": 3
   },
   "file_extension": ".py",
   "mimetype": "text/x-python",
   "name": "python",
   "nbconvert_exporter": "python",
   "pygments_lexer": "ipython3",
   "version": "3.11.5"
  }
 },
 "nbformat": 4,
 "nbformat_minor": 5
}
